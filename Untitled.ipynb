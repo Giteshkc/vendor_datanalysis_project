{
 "cells": [
  {
   "cell_type": "code",
   "execution_count": 2,
   "id": "a6ff54c6-4c95-40b8-848f-9e6d38e8814a",
   "metadata": {},
   "outputs": [],
   "source": [
    "import pandas as pd\n",
    "import os\n",
    "from sqlalchemy import create_engine\n",
    "import logging\n",
    "import time"
   ]
  },
  {
   "cell_type": "code",
   "execution_count": 3,
   "id": "db48ae65-acca-406a-a6a3-fcb4f990b4da",
   "metadata": {},
   "outputs": [],
   "source": [
    "import pandas as pd\n",
    "import os\n",
    "from sqlalchemy import create_engine\n",
    "import logging\n",
    "import time\n",
    "\n",
    "logging.basicConfig(\n",
    "    filename=\"logs/ingestion_db.log\",\n",
    "    level=logging.DEBUG,\n",
    "    format=\"%(asctime)s-%(levelname)s-%(message)s\",\n",
    "    filemode=\"a\"\n",
    ")\n",
    "engine=create_engine(\"sqlite:///inventory.db\")\n",
    "def ingest_db(df, tablename,engine):\n",
    "    ''' This function will ingest dataframe into database table '''\n",
    "    df.to_sql(tablename,con=engine, if_exists='replace',index=False)\n",
    "def load_raw_data():\n",
    "    '''This function load the csv and ingest into db'''\n",
    "    start=time.time()\n",
    "    for file in os.listdir('data'):\n",
    "        df=pd.read_csv(\"data/\"+file)\n",
    "        logging.info(f\"Ingesting {file} in db\")\n",
    "        ingest_db(df, file[:-4],engine)\n",
    "    end=time.time()\n",
    "    total_time=(start-end)/60\n",
    "    logging.info(\"Ingestion complete \")\n",
    "    logging.info(f\"Total time taken {total_time} min\")\n",
    "if __name__=='__main__':\n",
    "    load_raw_data()"
   ]
  },
  {
   "cell_type": "code",
   "execution_count": 14,
   "id": "d344c19b-93b4-4d68-8ff6-7f362c650c87",
   "metadata": {},
   "outputs": [],
   "source": []
  }
 ],
 "metadata": {
  "kernelspec": {
   "display_name": "Python 3 (ipykernel)",
   "language": "python",
   "name": "python3"
  },
  "language_info": {
   "codemirror_mode": {
    "name": "ipython",
    "version": 3
   },
   "file_extension": ".py",
   "mimetype": "text/x-python",
   "name": "python",
   "nbconvert_exporter": "python",
   "pygments_lexer": "ipython3",
   "version": "3.12.4"
  }
 },
 "nbformat": 4,
 "nbformat_minor": 5
}
